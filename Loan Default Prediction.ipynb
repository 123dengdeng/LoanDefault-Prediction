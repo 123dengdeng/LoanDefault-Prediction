{
 "cells": [
  {
   "cell_type": "markdown",
   "metadata": {},
   "source": [
    "# Loan Default Prediction\n",
    "## Team Members:\n",
    "* Harish Puvvada\n",
    "* Vamsi Mohan Ramineedi"
   ]
  },
  {
   "cell_type": "code",
   "execution_count": 1,
   "metadata": {
    "collapsed": true
   },
   "outputs": [],
   "source": [
    "import os\n",
    "import pandas as pd\n",
    "import numpy as np\n",
    "from IPython.core.display import HTML\n",
    "pd.set_option(\"display.max_columns\",75)\n",
    "import warnings\n",
    "warnings.filterwarnings('ignore')"
   ]
  },
  {
   "cell_type": "code",
   "execution_count": 2,
   "metadata": {
    "collapsed": true
   },
   "outputs": [],
   "source": [
    "#df2007_11 = pd.read_csv(os.getenv('FDS')+'LoanStats_2007_to_2011.csv',low_memory=False,skiprows=1)\n",
    "df2012_13 = pd.read_csv(os.getenv('FDS')+'LoanStats_2012_to_2013.csv',low_memory=False,skiprows=1)\n",
    "df2014 = pd.read_csv(os.getenv('FDS')+'LoanStats_2014.csv',low_memory=False,skiprows=1)"
   ]
  },
  {
   "cell_type": "code",
   "execution_count": 3,
   "metadata": {
    "collapsed": true
   },
   "outputs": [],
   "source": [
    "dataset = pd.concat([df2012_13, df2014]) #merging 2007 to 2014 datasets\n",
    "dataset = dataset.iloc[:,2:111] #removing empty columns\n",
    "empty_cols = [i for i in range(45,72)] #more empty columns\n",
    "dataset = dataset.drop(dataset.columns[empty_cols],axis=1)\n",
    "data_with_loanstatus_sliced = dataset[(dataset['loan_status']==\"Fully Paid\") | (dataset['loan_status']==\"Charged Off\")]\n",
    "di = {\"Fully Paid\":0, \"Charged Off\":1} #converting target variable to boolean\n",
    "Dataset_withBoolTarget= data_with_loanstatus_sliced.replace({\"loan_status\": di})"
   ]
  },
  {
   "cell_type": "code",
   "execution_count": 4,
   "metadata": {},
   "outputs": [
    {
     "data": {
      "text/plain": [
       "(376233, 82)"
      ]
     },
     "execution_count": 4,
     "metadata": {},
     "output_type": "execute_result"
    }
   ],
   "source": [
    "Dataset_withBoolTarget['loan_status'].value_counts()\n",
    "Dataset_withBoolTarget.shape"
   ]
  },
  {
   "cell_type": "code",
   "execution_count": 5,
   "metadata": {},
   "outputs": [
    {
     "name": "stdout",
     "output_type": "stream",
     "text": [
      "(376233, 74)\n"
     ]
    }
   ],
   "source": [
    "#print(Dataset_withBoolTarget.shape)\n",
    "dataset=Dataset_withBoolTarget.dropna(thresh = 340000,axis=1) #340000 is minimum number of non-NA values\n",
    "#print(x.isnull().sum()) #- to check how many null values in all the columns\n",
    "print(dataset.shape)\n",
    "#dataset['loan_status'].value_counts()"
   ]
  },
  {
   "cell_type": "code",
   "execution_count": 6,
   "metadata": {},
   "outputs": [
    {
     "data": {
      "text/plain": [
       "(376233, 52)"
      ]
     },
     "execution_count": 6,
     "metadata": {},
     "output_type": "execute_result"
    }
   ],
   "source": [
    "del_col_names = [\"delinq_2yrs\",  \"last_pymnt_d\", \"chargeoff_within_12_mths\",\"delinq_amnt\",\"emp_title\", \"term\", \"emp_title\", \"pymnt_plan\",\"purpose\",\"title\", \"zip_code\", \"verification_status\", \"dti\",\"earliest_cr_line\", \"initial_list_status\", \"out_prncp\",\n",
    "\"pymnt_plan\", \"num_tl_90g_dpd_24m\", \"num_tl_30dpd\", \"num_tl_120dpd_2m\", \"num_accts_ever_120_pd\", \"delinq_amnt\", \n",
    "\"chargeoff_within_12_mths\", \"total_rec_late_fee\", \"out_prncp_inv\", \"issue_d\"] #deleting some more columns\n",
    "dataset = dataset.drop(labels = del_col_names, axis = 1) \n",
    "dataset.shape\n"
   ]
  },
  {
   "cell_type": "code",
   "execution_count": 72,
   "metadata": {},
   "outputs": [
    {
     "data": {
      "text/plain": [
       "0.24126296486971305"
      ]
     },
     "execution_count": 72,
     "metadata": {},
     "output_type": "execute_result"
    }
   ],
   "source": [
    "features = ['funded_amnt','emp_length','annual_inc','home_ownership','addr_state','tax_liens','grade',\n",
    "            \"last_pymnt_amnt\", \"mort_acc\", \"pub_rec\", \"int_rate\", \"open_acc\",\"num_actv_rev_tl\",\n",
    "            \"mo_sin_rcnt_rev_tl_op\",\"mo_sin_old_rev_tl_op\",\"bc_util\",\"bc_open_to_buy\",\n",
    "            \"avg_cur_bal\",\"acc_open_past_24mths\",'loan_status'] #selecting final features\n",
    "Final_data = dataset[features] #19 features with target var\n",
    "Final_data[\"int_rate\"] = Final_data[\"int_rate\"].apply(lambda x:float(x[:-1]) ) #reomving % sign, conv to float  - int_rate column\n",
    "Final_data[\"int_rate\"].corr(Final_data[\"loan_status\"])"
   ]
  },
  {
   "cell_type": "code",
   "execution_count": 73,
   "metadata": {},
   "outputs": [
    {
     "data": {
      "text/html": [
       "<table border=\"1\" class=\"dataframe\">\n",
       "  <thead>\n",
       "    <tr style=\"text-align: right;\">\n",
       "      <th></th>\n",
       "      <th>funded_amnt</th>\n",
       "      <th>emp_length</th>\n",
       "      <th>annual_inc</th>\n",
       "      <th>home_ownership</th>\n",
       "      <th>addr_state</th>\n",
       "      <th>tax_liens</th>\n",
       "      <th>grade</th>\n",
       "      <th>last_pymnt_amnt</th>\n",
       "      <th>mort_acc</th>\n",
       "      <th>pub_rec</th>\n",
       "      <th>int_rate</th>\n",
       "      <th>open_acc</th>\n",
       "      <th>num_actv_rev_tl</th>\n",
       "      <th>mo_sin_rcnt_rev_tl_op</th>\n",
       "      <th>mo_sin_old_rev_tl_op</th>\n",
       "      <th>bc_util</th>\n",
       "      <th>bc_open_to_buy</th>\n",
       "      <th>avg_cur_bal</th>\n",
       "      <th>acc_open_past_24mths</th>\n",
       "      <th>loan_status</th>\n",
       "    </tr>\n",
       "  </thead>\n",
       "  <tbody>\n",
       "    <tr>\n",
       "      <th>235623</th>\n",
       "      <td>15000.0</td>\n",
       "      <td>4 years</td>\n",
       "      <td>66000.0</td>\n",
       "      <td>RENT</td>\n",
       "      <td>MD</td>\n",
       "      <td>0.0</td>\n",
       "      <td>B</td>\n",
       "      <td>509.12</td>\n",
       "      <td>0.0</td>\n",
       "      <td>0.0</td>\n",
       "      <td>13.53</td>\n",
       "      <td>8.0</td>\n",
       "      <td>6.0</td>\n",
       "      <td>50.0</td>\n",
       "      <td>120.0</td>\n",
       "      <td>96.5</td>\n",
       "      <td>580.0</td>\n",
       "      <td>2877.0</td>\n",
       "      <td>1.0</td>\n",
       "      <td>0</td>\n",
       "    </tr>\n",
       "    <tr>\n",
       "      <th>235624</th>\n",
       "      <td>18400.0</td>\n",
       "      <td>4 years</td>\n",
       "      <td>110000.0</td>\n",
       "      <td>MORTGAGE</td>\n",
       "      <td>TX</td>\n",
       "      <td>0.0</td>\n",
       "      <td>C</td>\n",
       "      <td>7394.95</td>\n",
       "      <td>4.0</td>\n",
       "      <td>0.0</td>\n",
       "      <td>14.47</td>\n",
       "      <td>18.0</td>\n",
       "      <td>7.0</td>\n",
       "      <td>15.0</td>\n",
       "      <td>128.0</td>\n",
       "      <td>89.6</td>\n",
       "      <td>2203.0</td>\n",
       "      <td>17353.0</td>\n",
       "      <td>5.0</td>\n",
       "      <td>0</td>\n",
       "    </tr>\n",
       "    <tr>\n",
       "      <th>235625</th>\n",
       "      <td>22000.0</td>\n",
       "      <td>10+ years</td>\n",
       "      <td>78000.0</td>\n",
       "      <td>MORTGAGE</td>\n",
       "      <td>TN</td>\n",
       "      <td>0.0</td>\n",
       "      <td>D</td>\n",
       "      <td>17.50</td>\n",
       "      <td>5.0</td>\n",
       "      <td>1.0</td>\n",
       "      <td>19.97</td>\n",
       "      <td>18.0</td>\n",
       "      <td>5.0</td>\n",
       "      <td>17.0</td>\n",
       "      <td>198.0</td>\n",
       "      <td>54.4</td>\n",
       "      <td>5569.0</td>\n",
       "      <td>13864.0</td>\n",
       "      <td>5.0</td>\n",
       "      <td>1</td>\n",
       "    </tr>\n",
       "    <tr>\n",
       "      <th>235626</th>\n",
       "      <td>2000.0</td>\n",
       "      <td>3 years</td>\n",
       "      <td>83000.0</td>\n",
       "      <td>OWN</td>\n",
       "      <td>CA</td>\n",
       "      <td>0.0</td>\n",
       "      <td>A</td>\n",
       "      <td>1500.68</td>\n",
       "      <td>2.0</td>\n",
       "      <td>0.0</td>\n",
       "      <td>7.90</td>\n",
       "      <td>21.0</td>\n",
       "      <td>3.0</td>\n",
       "      <td>5.0</td>\n",
       "      <td>130.0</td>\n",
       "      <td>23.4</td>\n",
       "      <td>36402.0</td>\n",
       "      <td>28172.0</td>\n",
       "      <td>7.0</td>\n",
       "      <td>0</td>\n",
       "    </tr>\n",
       "    <tr>\n",
       "      <th>235628</th>\n",
       "      <td>10000.0</td>\n",
       "      <td>10+ years</td>\n",
       "      <td>46000.0</td>\n",
       "      <td>MORTGAGE</td>\n",
       "      <td>CA</td>\n",
       "      <td>0.0</td>\n",
       "      <td>D</td>\n",
       "      <td>367.20</td>\n",
       "      <td>2.0</td>\n",
       "      <td>0.0</td>\n",
       "      <td>19.20</td>\n",
       "      <td>6.0</td>\n",
       "      <td>2.0</td>\n",
       "      <td>4.0</td>\n",
       "      <td>166.0</td>\n",
       "      <td>83.9</td>\n",
       "      <td>2175.0</td>\n",
       "      <td>11495.0</td>\n",
       "      <td>4.0</td>\n",
       "      <td>0</td>\n",
       "    </tr>\n",
       "  </tbody>\n",
       "</table>"
      ],
      "text/plain": [
       "<IPython.core.display.HTML object>"
      ]
     },
     "execution_count": 73,
     "metadata": {},
     "output_type": "execute_result"
    }
   ],
   "source": [
    "HTML(Final_data.tail().to_html())"
   ]
  },
  {
   "cell_type": "code",
   "execution_count": 74,
   "metadata": {},
   "outputs": [
    {
     "data": {
      "text/plain": [
       "'\\nfrom sklearn import preprocessing\\nle = preprocessing.LabelEncoder()\\nFinal_data[\"grade\"] = le.fit_transform(Final_data[\"grade\"])\\nFinal_data[\"home_ownership\"] = le.fit_transform(Final_data[\"home_ownership\"])\\n'"
      ]
     },
     "execution_count": 74,
     "metadata": {},
     "output_type": "execute_result"
    }
   ],
   "source": [
    "'''\n",
    "from sklearn import preprocessing\n",
    "le = preprocessing.LabelEncoder()\n",
    "Final_data[\"grade\"] = le.fit_transform(Final_data[\"grade\"])\n",
    "Final_data[\"home_ownership\"] = le.fit_transform(Final_data[\"home_ownership\"])\n",
    "'''"
   ]
  },
  {
   "cell_type": "code",
   "execution_count": 75,
   "metadata": {
    "collapsed": true
   },
   "outputs": [],
   "source": [
    "Final_data['grade'] = Final_data['grade'].map({'A':7,'B':6,'C':5,'D':4,'E':3,'F':2,'G':1})\n",
    "Final_data[\"home_ownership\"] = Final_data[\"home_ownership\"].map({\"MORTGAGE\":6,\"RENT\":5,\"OWN\":4,\"OTHER\":3,\"NONE\":2,\"ANY\":1})"
   ]
  },
  {
   "cell_type": "code",
   "execution_count": 76,
   "metadata": {},
   "outputs": [
    {
     "data": {
      "text/html": [
       "<div>\n",
       "<style>\n",
       "    .dataframe thead tr:only-child th {\n",
       "        text-align: right;\n",
       "    }\n",
       "\n",
       "    .dataframe thead th {\n",
       "        text-align: left;\n",
       "    }\n",
       "\n",
       "    .dataframe tbody tr th {\n",
       "        vertical-align: top;\n",
       "    }\n",
       "</style>\n",
       "<table border=\"1\" class=\"dataframe\">\n",
       "  <thead>\n",
       "    <tr style=\"text-align: right;\">\n",
       "      <th></th>\n",
       "      <th>funded_amnt</th>\n",
       "      <th>emp_length</th>\n",
       "      <th>annual_inc</th>\n",
       "      <th>home_ownership</th>\n",
       "      <th>addr_state</th>\n",
       "      <th>tax_liens</th>\n",
       "      <th>grade</th>\n",
       "      <th>last_pymnt_amnt</th>\n",
       "      <th>mort_acc</th>\n",
       "      <th>pub_rec</th>\n",
       "      <th>int_rate</th>\n",
       "      <th>open_acc</th>\n",
       "      <th>num_actv_rev_tl</th>\n",
       "      <th>mo_sin_rcnt_rev_tl_op</th>\n",
       "      <th>mo_sin_old_rev_tl_op</th>\n",
       "      <th>bc_util</th>\n",
       "      <th>bc_open_to_buy</th>\n",
       "      <th>avg_cur_bal</th>\n",
       "      <th>acc_open_past_24mths</th>\n",
       "      <th>loan_status</th>\n",
       "    </tr>\n",
       "  </thead>\n",
       "  <tbody>\n",
       "    <tr>\n",
       "      <th>0</th>\n",
       "      <td>27050.0</td>\n",
       "      <td>10+ years</td>\n",
       "      <td>55000.0</td>\n",
       "      <td>4</td>\n",
       "      <td>MI</td>\n",
       "      <td>0.0</td>\n",
       "      <td>6</td>\n",
       "      <td>6074.19</td>\n",
       "      <td>4.0</td>\n",
       "      <td>0.0</td>\n",
       "      <td>10.99</td>\n",
       "      <td>14.0</td>\n",
       "      <td>4.0</td>\n",
       "      <td>16.0</td>\n",
       "      <td>326.0</td>\n",
       "      <td>53.9</td>\n",
       "      <td>16473.0</td>\n",
       "      <td>9570.0</td>\n",
       "      <td>3.0</td>\n",
       "      <td>0</td>\n",
       "    </tr>\n",
       "    <tr>\n",
       "      <th>1</th>\n",
       "      <td>12000.0</td>\n",
       "      <td>4 years</td>\n",
       "      <td>60000.0</td>\n",
       "      <td>5</td>\n",
       "      <td>NC</td>\n",
       "      <td>0.0</td>\n",
       "      <td>6</td>\n",
       "      <td>3775.55</td>\n",
       "      <td>0.0</td>\n",
       "      <td>0.0</td>\n",
       "      <td>10.99</td>\n",
       "      <td>15.0</td>\n",
       "      <td>7.0</td>\n",
       "      <td>1.0</td>\n",
       "      <td>48.0</td>\n",
       "      <td>15.9</td>\n",
       "      <td>15216.0</td>\n",
       "      <td>476.0</td>\n",
       "      <td>8.0</td>\n",
       "      <td>0</td>\n",
       "    </tr>\n",
       "    <tr>\n",
       "      <th>2</th>\n",
       "      <td>4800.0</td>\n",
       "      <td>2 years</td>\n",
       "      <td>39600.0</td>\n",
       "      <td>6</td>\n",
       "      <td>TX</td>\n",
       "      <td>0.0</td>\n",
       "      <td>6</td>\n",
       "      <td>3900.48</td>\n",
       "      <td>0.0</td>\n",
       "      <td>0.0</td>\n",
       "      <td>10.99</td>\n",
       "      <td>3.0</td>\n",
       "      <td>2.0</td>\n",
       "      <td>25.0</td>\n",
       "      <td>220.0</td>\n",
       "      <td>16.1</td>\n",
       "      <td>21564.0</td>\n",
       "      <td>1379.0</td>\n",
       "      <td>0.0</td>\n",
       "      <td>0</td>\n",
       "    </tr>\n",
       "    <tr>\n",
       "      <th>3</th>\n",
       "      <td>12000.0</td>\n",
       "      <td>10+ years</td>\n",
       "      <td>130000.0</td>\n",
       "      <td>6</td>\n",
       "      <td>CO</td>\n",
       "      <td>0.0</td>\n",
       "      <td>6</td>\n",
       "      <td>398.28</td>\n",
       "      <td>3.0</td>\n",
       "      <td>0.0</td>\n",
       "      <td>11.99</td>\n",
       "      <td>9.0</td>\n",
       "      <td>5.0</td>\n",
       "      <td>4.0</td>\n",
       "      <td>193.0</td>\n",
       "      <td>93.0</td>\n",
       "      <td>3567.0</td>\n",
       "      <td>36362.0</td>\n",
       "      <td>4.0</td>\n",
       "      <td>0</td>\n",
       "    </tr>\n",
       "    <tr>\n",
       "      <th>4</th>\n",
       "      <td>7550.0</td>\n",
       "      <td>3 years</td>\n",
       "      <td>28000.0</td>\n",
       "      <td>5</td>\n",
       "      <td>CA</td>\n",
       "      <td>0.0</td>\n",
       "      <td>5</td>\n",
       "      <td>529.67</td>\n",
       "      <td>0.0</td>\n",
       "      <td>0.0</td>\n",
       "      <td>16.24</td>\n",
       "      <td>4.0</td>\n",
       "      <td>4.0</td>\n",
       "      <td>17.0</td>\n",
       "      <td>38.0</td>\n",
       "      <td>96.0</td>\n",
       "      <td>160.0</td>\n",
       "      <td>1440.0</td>\n",
       "      <td>1.0</td>\n",
       "      <td>0</td>\n",
       "    </tr>\n",
       "    <tr>\n",
       "      <th>5</th>\n",
       "      <td>20800.0</td>\n",
       "      <td>10+ years</td>\n",
       "      <td>81500.0</td>\n",
       "      <td>5</td>\n",
       "      <td>NY</td>\n",
       "      <td>0.0</td>\n",
       "      <td>6</td>\n",
       "      <td>13334.93</td>\n",
       "      <td>0.0</td>\n",
       "      <td>0.0</td>\n",
       "      <td>13.53</td>\n",
       "      <td>29.0</td>\n",
       "      <td>24.0</td>\n",
       "      <td>0.0</td>\n",
       "      <td>186.0</td>\n",
       "      <td>54.6</td>\n",
       "      <td>6811.0</td>\n",
       "      <td>869.0</td>\n",
       "      <td>9.0</td>\n",
       "      <td>0</td>\n",
       "    </tr>\n",
       "    <tr>\n",
       "      <th>6</th>\n",
       "      <td>10000.0</td>\n",
       "      <td>7 years</td>\n",
       "      <td>102000.0</td>\n",
       "      <td>6</td>\n",
       "      <td>MA</td>\n",
       "      <td>0.0</td>\n",
       "      <td>6</td>\n",
       "      <td>320.91</td>\n",
       "      <td>0.0</td>\n",
       "      <td>0.0</td>\n",
       "      <td>9.67</td>\n",
       "      <td>9.0</td>\n",
       "      <td>4.0</td>\n",
       "      <td>23.0</td>\n",
       "      <td>290.0</td>\n",
       "      <td>89.4</td>\n",
       "      <td>973.0</td>\n",
       "      <td>4349.0</td>\n",
       "      <td>3.0</td>\n",
       "      <td>0</td>\n",
       "    </tr>\n",
       "    <tr>\n",
       "      <th>7</th>\n",
       "      <td>27600.0</td>\n",
       "      <td>6 years</td>\n",
       "      <td>73000.0</td>\n",
       "      <td>6</td>\n",
       "      <td>CO</td>\n",
       "      <td>0.0</td>\n",
       "      <td>4</td>\n",
       "      <td>730.78</td>\n",
       "      <td>4.0</td>\n",
       "      <td>0.0</td>\n",
       "      <td>19.97</td>\n",
       "      <td>10.0</td>\n",
       "      <td>7.0</td>\n",
       "      <td>4.0</td>\n",
       "      <td>294.0</td>\n",
       "      <td>74.7</td>\n",
       "      <td>4853.0</td>\n",
       "      <td>24161.0</td>\n",
       "      <td>2.0</td>\n",
       "      <td>1</td>\n",
       "    </tr>\n",
       "    <tr>\n",
       "      <th>8</th>\n",
       "      <td>8000.0</td>\n",
       "      <td>2 years</td>\n",
       "      <td>33000.0</td>\n",
       "      <td>6</td>\n",
       "      <td>CO</td>\n",
       "      <td>0.0</td>\n",
       "      <td>6</td>\n",
       "      <td>276.88</td>\n",
       "      <td>0.0</td>\n",
       "      <td>1.0</td>\n",
       "      <td>10.99</td>\n",
       "      <td>9.0</td>\n",
       "      <td>5.0</td>\n",
       "      <td>14.0</td>\n",
       "      <td>269.0</td>\n",
       "      <td>72.5</td>\n",
       "      <td>2255.0</td>\n",
       "      <td>1772.0</td>\n",
       "      <td>2.0</td>\n",
       "      <td>1</td>\n",
       "    </tr>\n",
       "    <tr>\n",
       "      <th>9</th>\n",
       "      <td>15000.0</td>\n",
       "      <td>10+ years</td>\n",
       "      <td>98000.0</td>\n",
       "      <td>5</td>\n",
       "      <td>NY</td>\n",
       "      <td>0.0</td>\n",
       "      <td>5</td>\n",
       "      <td>14150.76</td>\n",
       "      <td>0.0</td>\n",
       "      <td>0.0</td>\n",
       "      <td>14.47</td>\n",
       "      <td>16.0</td>\n",
       "      <td>8.0</td>\n",
       "      <td>7.0</td>\n",
       "      <td>257.0</td>\n",
       "      <td>27.6</td>\n",
       "      <td>15051.0</td>\n",
       "      <td>815.0</td>\n",
       "      <td>6.0</td>\n",
       "      <td>0</td>\n",
       "    </tr>\n",
       "  </tbody>\n",
       "</table>\n",
       "</div>"
      ],
      "text/plain": [
       "   funded_amnt emp_length  annual_inc  home_ownership addr_state  tax_liens  \\\n",
       "0      27050.0  10+ years     55000.0               4         MI        0.0   \n",
       "1      12000.0    4 years     60000.0               5         NC        0.0   \n",
       "2       4800.0    2 years     39600.0               6         TX        0.0   \n",
       "3      12000.0  10+ years    130000.0               6         CO        0.0   \n",
       "4       7550.0    3 years     28000.0               5         CA        0.0   \n",
       "5      20800.0  10+ years     81500.0               5         NY        0.0   \n",
       "6      10000.0    7 years    102000.0               6         MA        0.0   \n",
       "7      27600.0    6 years     73000.0               6         CO        0.0   \n",
       "8       8000.0    2 years     33000.0               6         CO        0.0   \n",
       "9      15000.0  10+ years     98000.0               5         NY        0.0   \n",
       "\n",
       "   grade  last_pymnt_amnt  mort_acc  pub_rec  int_rate  open_acc  \\\n",
       "0      6          6074.19       4.0      0.0     10.99      14.0   \n",
       "1      6          3775.55       0.0      0.0     10.99      15.0   \n",
       "2      6          3900.48       0.0      0.0     10.99       3.0   \n",
       "3      6           398.28       3.0      0.0     11.99       9.0   \n",
       "4      5           529.67       0.0      0.0     16.24       4.0   \n",
       "5      6         13334.93       0.0      0.0     13.53      29.0   \n",
       "6      6           320.91       0.0      0.0      9.67       9.0   \n",
       "7      4           730.78       4.0      0.0     19.97      10.0   \n",
       "8      6           276.88       0.0      1.0     10.99       9.0   \n",
       "9      5         14150.76       0.0      0.0     14.47      16.0   \n",
       "\n",
       "   num_actv_rev_tl  mo_sin_rcnt_rev_tl_op  mo_sin_old_rev_tl_op  bc_util  \\\n",
       "0              4.0                   16.0                 326.0     53.9   \n",
       "1              7.0                    1.0                  48.0     15.9   \n",
       "2              2.0                   25.0                 220.0     16.1   \n",
       "3              5.0                    4.0                 193.0     93.0   \n",
       "4              4.0                   17.0                  38.0     96.0   \n",
       "5             24.0                    0.0                 186.0     54.6   \n",
       "6              4.0                   23.0                 290.0     89.4   \n",
       "7              7.0                    4.0                 294.0     74.7   \n",
       "8              5.0                   14.0                 269.0     72.5   \n",
       "9              8.0                    7.0                 257.0     27.6   \n",
       "\n",
       "   bc_open_to_buy  avg_cur_bal  acc_open_past_24mths  loan_status  \n",
       "0         16473.0       9570.0                   3.0            0  \n",
       "1         15216.0        476.0                   8.0            0  \n",
       "2         21564.0       1379.0                   0.0            0  \n",
       "3          3567.0      36362.0                   4.0            0  \n",
       "4           160.0       1440.0                   1.0            0  \n",
       "5          6811.0        869.0                   9.0            0  \n",
       "6           973.0       4349.0                   3.0            0  \n",
       "7          4853.0      24161.0                   2.0            1  \n",
       "8          2255.0       1772.0                   2.0            1  \n",
       "9         15051.0        815.0                   6.0            0  "
      ]
     },
     "execution_count": 76,
     "metadata": {},
     "output_type": "execute_result"
    }
   ],
   "source": [
    "Final_data.head(10)"
   ]
  },
  {
   "cell_type": "code",
   "execution_count": 77,
   "metadata": {
    "scrolled": true
   },
   "outputs": [
    {
     "data": {
      "text/plain": [
       "10+ years    122222\n",
       "2 years       32828\n",
       "3 years       28995\n",
       "< 1 year      28121\n",
       "5 years       24756\n",
       "1 year        23477\n",
       "4 years       21825\n",
       "7 years       21701\n",
       "6 years       21467\n",
       "8 years       18453\n",
       "n/a           17744\n",
       "9 years       14644\n",
       "Name: emp_length, dtype: int64"
      ]
     },
     "execution_count": 77,
     "metadata": {},
     "output_type": "execute_result"
    }
   ],
   "source": [
    "Final_data[\"emp_length\"].value_counts()"
   ]
  },
  {
   "cell_type": "code",
   "execution_count": 82,
   "metadata": {
    "scrolled": true
   },
   "outputs": [
    {
     "ename": "TypeError",
     "evalue": "expected string or bytes-like object",
     "output_type": "error",
     "traceback": [
      "\u001b[1;31m---------------------------------------------------------------------------\u001b[0m",
      "\u001b[1;31mTypeError\u001b[0m                                 Traceback (most recent call last)",
      "\u001b[1;32m<ipython-input-82-9c98fe130930>\u001b[0m in \u001b[0;36m<module>\u001b[1;34m()\u001b[0m\n\u001b[0;32m      2\u001b[0m \u001b[1;32mimport\u001b[0m \u001b[0mre\u001b[0m\u001b[1;33m\u001b[0m\u001b[0m\n\u001b[0;32m      3\u001b[0m \u001b[0mFinal_data\u001b[0m\u001b[1;33m[\u001b[0m\u001b[1;34m'emp_length'\u001b[0m\u001b[1;33m]\u001b[0m\u001b[1;33m.\u001b[0m\u001b[0mreplace\u001b[0m\u001b[1;33m(\u001b[0m\u001b[1;33m[\u001b[0m\u001b[1;34m'years'\u001b[0m\u001b[1;33m,\u001b[0m\u001b[1;34m'year'\u001b[0m\u001b[1;33m,\u001b[0m\u001b[1;34m'+'\u001b[0m\u001b[1;33m,\u001b[0m\u001b[1;34m'<'\u001b[0m\u001b[1;33m,\u001b[0m\u001b[1;34m'n/a'\u001b[0m\u001b[1;33m]\u001b[0m\u001b[1;33m,\u001b[0m \u001b[1;34m''\u001b[0m\u001b[1;33m)\u001b[0m\u001b[1;33m\u001b[0m\u001b[0m\n\u001b[1;32m----> 4\u001b[1;33m \u001b[0mFinal_data\u001b[0m\u001b[1;33m[\u001b[0m\u001b[1;34m'emp_length'\u001b[0m\u001b[1;33m]\u001b[0m \u001b[1;33m=\u001b[0m \u001b[0mre\u001b[0m\u001b[1;33m.\u001b[0m\u001b[0msub\u001b[0m\u001b[1;33m(\u001b[0m\u001b[1;34mr\"[^0-9]+\"\u001b[0m\u001b[1;33m,\u001b[0m \u001b[1;34m\"\"\u001b[0m\u001b[1;33m,\u001b[0m \u001b[0mFinal_data\u001b[0m\u001b[1;33m[\u001b[0m\u001b[1;34m'emp_length'\u001b[0m\u001b[1;33m]\u001b[0m\u001b[1;33m)\u001b[0m\u001b[1;33m\u001b[0m\u001b[0m\n\u001b[0m",
      "\u001b[1;32mC:\\Users\\ramin\\Anaconda3\\lib\\re.py\u001b[0m in \u001b[0;36msub\u001b[1;34m(pattern, repl, string, count, flags)\u001b[0m\n\u001b[0;32m    189\u001b[0m     \u001b[0ma\u001b[0m \u001b[0mcallable\u001b[0m\u001b[1;33m,\u001b[0m \u001b[0mit\u001b[0m\u001b[0;31m'\u001b[0m\u001b[0ms\u001b[0m \u001b[0mpassed\u001b[0m \u001b[0mthe\u001b[0m \u001b[0mmatch\u001b[0m \u001b[0mobject\u001b[0m \u001b[1;32mand\u001b[0m \u001b[0mmust\u001b[0m \u001b[1;32mreturn\u001b[0m\u001b[1;33m\u001b[0m\u001b[0m\n\u001b[0;32m    190\u001b[0m     a replacement string to be used.\"\"\"\n\u001b[1;32m--> 191\u001b[1;33m     \u001b[1;32mreturn\u001b[0m \u001b[0m_compile\u001b[0m\u001b[1;33m(\u001b[0m\u001b[0mpattern\u001b[0m\u001b[1;33m,\u001b[0m \u001b[0mflags\u001b[0m\u001b[1;33m)\u001b[0m\u001b[1;33m.\u001b[0m\u001b[0msub\u001b[0m\u001b[1;33m(\u001b[0m\u001b[0mrepl\u001b[0m\u001b[1;33m,\u001b[0m \u001b[0mstring\u001b[0m\u001b[1;33m,\u001b[0m \u001b[0mcount\u001b[0m\u001b[1;33m)\u001b[0m\u001b[1;33m\u001b[0m\u001b[0m\n\u001b[0m\u001b[0;32m    192\u001b[0m \u001b[1;33m\u001b[0m\u001b[0m\n\u001b[0;32m    193\u001b[0m \u001b[1;32mdef\u001b[0m \u001b[0msubn\u001b[0m\u001b[1;33m(\u001b[0m\u001b[0mpattern\u001b[0m\u001b[1;33m,\u001b[0m \u001b[0mrepl\u001b[0m\u001b[1;33m,\u001b[0m \u001b[0mstring\u001b[0m\u001b[1;33m,\u001b[0m \u001b[0mcount\u001b[0m\u001b[1;33m=\u001b[0m\u001b[1;36m0\u001b[0m\u001b[1;33m,\u001b[0m \u001b[0mflags\u001b[0m\u001b[1;33m=\u001b[0m\u001b[1;36m0\u001b[0m\u001b[1;33m)\u001b[0m\u001b[1;33m:\u001b[0m\u001b[1;33m\u001b[0m\u001b[0m\n",
      "\u001b[1;31mTypeError\u001b[0m: expected string or bytes-like object"
     ]
    }
   ],
   "source": [
    "#Final_data[\"emp_length\"].replace({'years','+','<':''}, regex = True)\n",
    "import re\n",
    "Final_data['emp_length'].replace(['years','year','+','<','n/a'], '')\n",
    "Final_data['emp_length'] = re.sub(r\"[^0-9]+\", \"\", Final_data['emp_length'])\n"
   ]
  },
  {
   "cell_type": "code",
   "execution_count": 50,
   "metadata": {},
   "outputs": [
    {
     "data": {
      "text/plain": [
       "0          10\n",
       "1           4\n",
       "2           2\n",
       "3          10\n",
       "4           3\n",
       "5          10\n",
       "6           7\n",
       "7           6\n",
       "8           2\n",
       "9          10\n",
       "10          4\n",
       "11          5\n",
       "12          2\n",
       "13         10\n",
       "14         10\n",
       "15          4\n",
       "16          3\n",
       "17          1\n",
       "18         10\n",
       "19         10\n",
       "20         10\n",
       "21         10\n",
       "22          9\n",
       "23         10\n",
       "24          1\n",
       "26         10\n",
       "27          8\n",
       "28          2\n",
       "30         10\n",
       "31          4\n",
       "         ... \n",
       "235597    n/a\n",
       "235598    n/a\n",
       "235599      9\n",
       "235600     10\n",
       "235601    n/a\n",
       "235602     10\n",
       "235603     10\n",
       "235604      4\n",
       "235605      1\n",
       "235606    n/a\n",
       "235607     10\n",
       "235608     10\n",
       "235609    n/a\n",
       "235610      3\n",
       "235611      2\n",
       "235612     10\n",
       "235613      3\n",
       "235614      6\n",
       "235615      9\n",
       "235617    n/a\n",
       "235618      8\n",
       "235619      7\n",
       "235620      5\n",
       "235621      3\n",
       "235622     10\n",
       "235623      4\n",
       "235624      4\n",
       "235625     10\n",
       "235626      3\n",
       "235628     10\n",
       "Name: emp_length, Length: 376233, dtype: object"
      ]
     },
     "execution_count": 50,
     "metadata": {},
     "output_type": "execute_result"
    }
   ],
   "source": [
    "Final_data[\"emp_length\"]"
   ]
  },
  {
   "cell_type": "code",
   "execution_count": null,
   "metadata": {
    "collapsed": true
   },
   "outputs": [],
   "source": [
    "#dataset[(dataset['avg_cur_bal'] < 5000 ) | (dataset['loan_status']==1)]"
   ]
  },
  {
   "cell_type": "code",
   "execution_count": null,
   "metadata": {
    "collapsed": true
   },
   "outputs": [],
   "source": [
    "features = []"
   ]
  },
  {
   "cell_type": "code",
   "execution_count": null,
   "metadata": {
    "collapsed": true
   },
   "outputs": [],
   "source": [
    "mandatory  - \"last_pymnt_amnt\", \"mort_acc\", \"pub_rec\", \"int_rate\", \"open_acc\",\"num_actv_rev_tl\",\"mo_sin_rcnt_rev_tl_op\",\"mo_sin_old_rev_tl_op\",\"bc_util\",\"bc_open_to_buy\",\"avg_cur_bal\",\"acc_open_past_24mths\""
   ]
  },
  {
   "cell_type": "code",
   "execution_count": null,
   "metadata": {
    "collapsed": true
   },
   "outputs": [],
   "source": [
    "doubtful - acc_now_delinq, pct_tl_nvr_dlq, num_sats, sub_grade"
   ]
  },
  {
   "cell_type": "code",
   "execution_count": null,
   "metadata": {
    "collapsed": true
   },
   "outputs": [],
   "source": []
  }
 ],
 "metadata": {
  "kernelspec": {
   "display_name": "Python 3",
   "language": "python",
   "name": "python3"
  },
  "language_info": {
   "codemirror_mode": {
    "name": "ipython",
    "version": 3
   },
   "file_extension": ".py",
   "mimetype": "text/x-python",
   "name": "python",
   "nbconvert_exporter": "python",
   "pygments_lexer": "ipython3",
   "version": "3.6.1"
  }
 },
 "nbformat": 4,
 "nbformat_minor": 2
}
